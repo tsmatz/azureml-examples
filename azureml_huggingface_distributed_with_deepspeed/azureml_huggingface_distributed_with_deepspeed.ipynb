{
 "cells": [
  {
   "cell_type": "markdown",
   "metadata": {},
   "source": [
    "# Run Hugging Face Fine-tuning Distribution with DeepSpeed optimization in Azure Machine Learning\n",
    "\n",
    "In this notebook, we run Hugging Face training to fine-tune XML-RoBERTa model for Japanese NER (Named Entity Recognition) in Azure Machine Learning.<br>\n",
    "This runs same code described in [this post](https://tsmatz.wordpress.com/2022/10/24/huggingface-japanese-ner-named-entity-recognition/) as distributed manners in Azure Machine Learning.\n",
    "\n",
    "To run this notebook,\n",
    "\n",
    "1. Create new \"Machine Learning\" resource in [Azure Portal](https://portal.azure.com/).\n",
    "2. Install Azure Machine Learning CLI v2 on Ubuntu as follows\n",
    "\n",
    "```\n",
    "# install Azure CLI\n",
    "curl -sL https://aka.ms/InstallAzureCLIDeb | sudo bash\n",
    "# install AML CLI extension\n",
    "az extension add --name ml\n",
    "```\n",
    "\n",
    "3. In this example, we'll download model and check results locally.<br>\n",
    "Please install the required packages as follows.\n",
    "\n",
    "```\n",
    "# install and upgrade pip\n",
    "sudo apt-get install -y python3-pip\n",
    "sudo -H pip3 install --upgrade pip\n",
    "# install PyTorch\n",
    "pip install torch torchvision torchaudio --extra-index-url https://download.pytorch.org/whl/cpu\n",
    "# install sentencepiece\n",
    "pip install omegaconf hydra-core fairseq sentencepiece\n",
    "# install Hugging Face\n",
    "pip install transformers datasets\n",
    "# install other packages\n",
    "pip install numpy seqeval pandas matplotlib scikit-learn\n",
    "```\n",
    "\n",
    "Here I use built-in HuggingFace ```Trainer``` class, which can run fine-tuning without manually writing any boilerplate code."
   ]
  },
  {
   "cell_type": "markdown",
   "metadata": {},
   "source": [
    "## 1. Connect to Azure Machine Learning workspace\n",
    "\n",
    "Login to Azure and prepare for connecting to Azure Machine Learning (Azure ML, AML) workspace.<br>\n",
    "Please fill the following subscription id, AML workspace name, and resource group name."
   ]
  },
  {
   "cell_type": "code",
   "execution_count": null,
   "metadata": {},
   "outputs": [],
   "source": [
    "!az login"
   ]
  },
  {
   "cell_type": "code",
   "execution_count": null,
   "metadata": {},
   "outputs": [],
   "source": [
    "!az account set -s {AZURE_SUBSCRIPTION_ID}"
   ]
  },
  {
   "cell_type": "code",
   "execution_count": 2,
   "metadata": {},
   "outputs": [],
   "source": [
    "my_resource_group = \"{AML_RESOURCE_GROUP_NAME}\"\n",
    "my_workspace = \"{AML_WORSPACE_NAME}\""
   ]
  },
  {
   "cell_type": "markdown",
   "metadata": {},
   "source": [
    "## 2. Upload dataset\n",
    "\n",
    "Convert HuggingFace dataset into appropriate tokens and labels, and upload the generated dataset into Azure Machine Learning."
   ]
  },
  {
   "cell_type": "markdown",
   "metadata": {},
   "source": [
    "Firsy, load original XTREAM dataset.<br>\n",
    "This dataset has 40000 records (training 20000, validation 10000, test 10000) with the following labels, which is annotated to each Japanese character.\n",
    "\n",
    "| tag name | description |\n",
    "| ---------- | -- |\n",
    "| O | Others |\n",
    "| B-PER | Beginning of Person name |\n",
    "| I-PER | Person name |\n",
    "| B-ORG | Beginning of Organization name |\n",
    "| I-ORG | Organization name |\n",
    "| B-LOC | Beginning of Location name |\n",
    "| I-LOC | Location name |"
   ]
  },
  {
   "cell_type": "code",
   "execution_count": 3,
   "metadata": {},
   "outputs": [
    {
     "name": "stderr",
     "output_type": "stream",
     "text": [
      "/usr/lib/python3/dist-packages/requests/__init__.py:89: RequestsDependencyWarning: urllib3 (1.26.12) or chardet (3.0.4) doesn't match a supported version!\n",
      "  warnings.warn(\"urllib3 ({}) or chardet ({}) doesn't match a supported \"\n"
     ]
    },
    {
     "data": {
      "application/vnd.jupyter.widget-view+json": {
       "model_id": "fd5494fe8d23460ea6372e5193b39114",
       "version_major": 2,
       "version_minor": 0
      },
      "text/plain": [
       "Downloading builder script:   0%|          | 0.00/37.5k [00:00<?, ?B/s]"
      ]
     },
     "metadata": {},
     "output_type": "display_data"
    },
    {
     "data": {
      "application/vnd.jupyter.widget-view+json": {
       "model_id": "f4370d739cdd43a3b703c16b44fab95a",
       "version_major": 2,
       "version_minor": 0
      },
      "text/plain": [
       "Downloading metadata:   0%|          | 0.00/593k [00:00<?, ?B/s]"
      ]
     },
     "metadata": {},
     "output_type": "display_data"
    },
    {
     "data": {
      "application/vnd.jupyter.widget-view+json": {
       "model_id": "4e83f367032347e0a2f9cfa5d84c3b25",
       "version_major": 2,
       "version_minor": 0
      },
      "text/plain": [
       "Downloading readme:   0%|          | 0.00/13.1k [00:00<?, ?B/s]"
      ]
     },
     "metadata": {},
     "output_type": "display_data"
    },
    {
     "name": "stdout",
     "output_type": "stream",
     "text": [
      "Downloading and preparing dataset xtreme/PAN-X.ja (download: 223.17 MiB, generated: 24.26 MiB, post-processed: Unknown size, total: 247.43 MiB) to /home/tsmatsuz/.cache/huggingface/datasets/xtreme/PAN-X.ja/1.0.0/29f5d57a48779f37ccb75cb8708d1095448aad0713b425bdc1ff9a4a128a56e4...\n"
     ]
    },
    {
     "data": {
      "application/vnd.jupyter.widget-view+json": {
       "model_id": "706ac41a48ed4d7e966de6c66caf9717",
       "version_major": 2,
       "version_minor": 0
      },
      "text/plain": [
       "Downloading data:   0%|          | 0.00/234M [00:00<?, ?B/s]"
      ]
     },
     "metadata": {},
     "output_type": "display_data"
    },
    {
     "data": {
      "application/vnd.jupyter.widget-view+json": {
       "model_id": "",
       "version_major": 2,
       "version_minor": 0
      },
      "text/plain": [
       "Generating train split:   0%|          | 0/20000 [00:00<?, ? examples/s]"
      ]
     },
     "metadata": {},
     "output_type": "display_data"
    },
    {
     "data": {
      "application/vnd.jupyter.widget-view+json": {
       "model_id": "",
       "version_major": 2,
       "version_minor": 0
      },
      "text/plain": [
       "Generating validation split:   0%|          | 0/10000 [00:00<?, ? examples/s]"
      ]
     },
     "metadata": {},
     "output_type": "display_data"
    },
    {
     "data": {
      "application/vnd.jupyter.widget-view+json": {
       "model_id": "",
       "version_major": 2,
       "version_minor": 0
      },
      "text/plain": [
       "Generating test split:   0%|          | 0/10000 [00:00<?, ? examples/s]"
      ]
     },
     "metadata": {},
     "output_type": "display_data"
    },
    {
     "name": "stdout",
     "output_type": "stream",
     "text": [
      "Dataset xtreme downloaded and prepared to /home/tsmatsuz/.cache/huggingface/datasets/xtreme/PAN-X.ja/1.0.0/29f5d57a48779f37ccb75cb8708d1095448aad0713b425bdc1ff9a4a128a56e4. Subsequent calls will reuse this data.\n"
     ]
    },
    {
     "data": {
      "application/vnd.jupyter.widget-view+json": {
       "model_id": "b2eef4f4a47e4343b4d1eccc4efe4807",
       "version_major": 2,
       "version_minor": 0
      },
      "text/plain": [
       "  0%|          | 0/3 [00:00<?, ?it/s]"
      ]
     },
     "metadata": {},
     "output_type": "display_data"
    },
    {
     "data": {
      "text/plain": [
       "DatasetDict({\n",
       "    train: Dataset({\n",
       "        features: ['tokens', 'ner_tags', 'langs'],\n",
       "        num_rows: 20000\n",
       "    })\n",
       "    validation: Dataset({\n",
       "        features: ['tokens', 'ner_tags', 'langs'],\n",
       "        num_rows: 10000\n",
       "    })\n",
       "    test: Dataset({\n",
       "        features: ['tokens', 'ner_tags', 'langs'],\n",
       "        num_rows: 10000\n",
       "    })\n",
       "})"
      ]
     },
     "execution_count": 3,
     "metadata": {},
     "output_type": "execute_result"
    }
   ],
   "source": [
    "from datasets import load_dataset, DatasetDict\n",
    "from collections import defaultdict\n",
    "\n",
    "panx_ch = defaultdict(DatasetDict)\n",
    "ds = load_dataset(\"xtreme\", name=\"PAN-X.ja\")\n",
    "ds"
   ]
  },
  {
   "cell_type": "markdown",
   "metadata": {},
   "source": [
    "Convert dataset to fit our tokenizer as follows.\n",
    "\n",
    "<ins>original data (tokens in current dataset)</ins>\n",
    "\n",
    "| | 0 | 1 | 2 | 3 | 4 | 5 | 6 | 7 |\n",
    "| ---------- | -- | -- | -- | -- | -- | -- | -- | -- |\n",
    "| **Tokens** | 松 | 崎 | は | 日 | 本 | に | い | る |\n",
    "| **Tags**   | B-PER | I-PER | O | B-LOC | I-LOC | O | O | O |\n",
    "\n",
    "<ins>converted data (required tokens in this model)</ins>\n",
    "\n",
    "| | 0 | 1 | 2 | 3 | 4 | 5 | 6 |\n",
    "| ---------- | -- | -- |-- |-- |-- |-- |-- |\n",
    "| **Tokens** | ▁ | 松 | 崎 | は | 日本 | に | いる |\n",
    "| **Tags**   | B-PER | I-PER | I-PER | O | B-LOC | O | O |\n",
    "\n",
    "> Note : The dataset loaded by ```load_from_disk()``` has several restrictions for using methods, such as, ```map()``` or ```shuffle()```. (Because it's read-only file system.)<br>\n",
    "> Run preprocessing by these methods before saving to disk. "
   ]
  },
  {
   "cell_type": "code",
   "execution_count": 4,
   "metadata": {},
   "outputs": [
    {
     "data": {
      "application/vnd.jupyter.widget-view+json": {
       "model_id": "ff4096b34000463584f2251d738fbbe9",
       "version_major": 2,
       "version_minor": 0
      },
      "text/plain": [
       "Downloading:   0%|          | 0.00/615 [00:00<?, ?B/s]"
      ]
     },
     "metadata": {},
     "output_type": "display_data"
    },
    {
     "data": {
      "application/vnd.jupyter.widget-view+json": {
       "model_id": "b71da11370e7441fb0284ba353423d2b",
       "version_major": 2,
       "version_minor": 0
      },
      "text/plain": [
       "Downloading:   0%|          | 0.00/5.07M [00:00<?, ?B/s]"
      ]
     },
     "metadata": {},
     "output_type": "display_data"
    },
    {
     "data": {
      "application/vnd.jupyter.widget-view+json": {
       "model_id": "cafe179d72534318924ac7681e8b683f",
       "version_major": 2,
       "version_minor": 0
      },
      "text/plain": [
       "Downloading:   0%|          | 0.00/9.10M [00:00<?, ?B/s]"
      ]
     },
     "metadata": {},
     "output_type": "display_data"
    },
    {
     "data": {
      "application/vnd.jupyter.widget-view+json": {
       "model_id": "f43ad2cf29114a23b2df53b8e57a39b3",
       "version_major": 2,
       "version_minor": 0
      },
      "text/plain": [
       "  0%|          | 0/157 [00:00<?, ?ba/s]"
      ]
     },
     "metadata": {},
     "output_type": "display_data"
    },
    {
     "data": {
      "application/vnd.jupyter.widget-view+json": {
       "model_id": "e968557f491446f4a93fe612f0cb056f",
       "version_major": 2,
       "version_minor": 0
      },
      "text/plain": [
       "  0%|          | 0/79 [00:00<?, ?ba/s]"
      ]
     },
     "metadata": {},
     "output_type": "display_data"
    },
    {
     "data": {
      "application/vnd.jupyter.widget-view+json": {
       "model_id": "739ccd39bb294d9886d41a94e4bda297",
       "version_major": 2,
       "version_minor": 0
      },
      "text/plain": [
       "  0%|          | 0/79 [00:00<?, ?ba/s]"
      ]
     },
     "metadata": {},
     "output_type": "display_data"
    },
    {
     "data": {
      "text/plain": [
       "DatasetDict({\n",
       "    train: Dataset({\n",
       "        features: ['input_ids', 'attention_mask', 'labels'],\n",
       "        num_rows: 20000\n",
       "    })\n",
       "    validation: Dataset({\n",
       "        features: ['input_ids', 'attention_mask', 'labels'],\n",
       "        num_rows: 10000\n",
       "    })\n",
       "    test: Dataset({\n",
       "        features: ['input_ids', 'attention_mask', 'labels'],\n",
       "        num_rows: 10000\n",
       "    })\n",
       "})"
      ]
     },
     "execution_count": 4,
     "metadata": {},
     "output_type": "execute_result"
    }
   ],
   "source": [
    "from transformers import AutoTokenizer\n",
    "\n",
    "# load tokenizer\n",
    "xlmr_tokenizer = AutoTokenizer.from_pretrained(\"xlm-roberta-base\")\n",
    "\n",
    "# define conversion\n",
    "def tokenize_and_align_labels(data):\n",
    "    text = [\"\".join(t) for t in data[\"tokens\"]]\n",
    "    tokenized_inputs = xlmr_tokenizer(text, truncation=True, max_length=512)\n",
    "\n",
    "    #\n",
    "    # map label to the new token\n",
    "    #\n",
    "    # [example]\n",
    "    #   org token (data)            : [\"松\", \"崎\", \"は\", \"日\", \"本\", \"に\", \"い\", \"る\"]\n",
    "    #   new token (tokenized_inputs): [\"_\", \"松\", \"崎\", \"は\", \"日本\", \"に\", \"いる\"]\n",
    "    labels = []\n",
    "    for row_idx, label_old in enumerate(data[\"ner_tags\"]):\n",
    "        # label is initialized as [[], [], [], [], [], [], []]\n",
    "        label_new = [[] for t in tokenized_inputs.tokens(batch_index=row_idx)]\n",
    "        # label becomes [[1], [2], [2], [], [5, 6], [], []]\n",
    "        for char_idx in range(len(data[\"tokens\"][row_idx])):\n",
    "            token_idx = tokenized_inputs.char_to_token(row_idx, char_idx)\n",
    "            if (token_idx is not None) and (data[\"ner_tags\"][row_idx][char_idx] != 0):\n",
    "                label_new[token_idx].append(data[\"ner_tags\"][row_idx][char_idx])\n",
    "                if (tokenized_inputs.tokens(batch_index=row_idx)[token_idx] == \"▁\") and (data[\"ner_tags\"][row_idx][char_idx] != 0):\n",
    "                    label_new[token_idx+1].append(data[\"ner_tags\"][row_idx][char_idx] + 1)\n",
    "        # label becomes [1, 1, 1, 0, 5, 0, 0]\n",
    "        label_new = list(map(lambda i : min(i, default=0), label_new))\n",
    "        # append result\n",
    "        labels.append(label_new)\n",
    "\n",
    "    tokenized_inputs[\"labels\"] = labels\n",
    "    return tokenized_inputs\n",
    "\n",
    "# run conversion\n",
    "tokenized_ds = ds.map(\n",
    "    tokenize_and_align_labels,\n",
    "    remove_columns=[\"langs\", \"tokens\", \"ner_tags\"],\n",
    "    batched=True,\n",
    "    batch_size=128)\n",
    "tokenized_ds"
   ]
  },
  {
   "cell_type": "markdown",
   "metadata": {},
   "source": [
    "Save the converted dataset."
   ]
  },
  {
   "cell_type": "code",
   "execution_count": 5,
   "metadata": {},
   "outputs": [],
   "source": [
    "tokenized_ds.save_to_disk(\"Tokenized_PAN_X_ja\")"
   ]
  },
  {
   "cell_type": "markdown",
   "metadata": {},
   "source": [
    "Upload dataset into Azure ML as data asset."
   ]
  },
  {
   "cell_type": "code",
   "execution_count": 6,
   "metadata": {},
   "outputs": [
    {
     "name": "stdout",
     "output_type": "stream",
     "text": [
      "Writing dataset_upload.yml\n"
     ]
    }
   ],
   "source": [
    "%%writefile dataset_upload.yml\n",
    "$schema: https://azuremlschemas.azureedge.net/latest/data.schema.json\n",
    "name: panx_ja_tokenized_dataset\n",
    "description: PAN-X Japanese dataset (Tokenized)\n",
    "type: uri_folder\n",
    "path: Tokenized_PAN_X_ja"
   ]
  },
  {
   "cell_type": "code",
   "execution_count": 7,
   "metadata": {},
   "outputs": [
    {
     "name": "stdout",
     "output_type": "stream",
     "text": [
      "huggingface/tokenizers: The current process just got forked, after parallelism has already been used. Disabling parallelism to avoid deadlocks...\n",
      "To disable this warning, you can either:\n",
      "\t- Avoid using `tokenizers` before the fork if possible\n",
      "\t- Explicitly set the environment variable TOKENIZERS_PARALLELISM=(true | false)\n",
      "Class RegistryOperations: This is an experimental class, and may change at any time. Please see https://aka.ms/azuremlexperimental for more information.\n",
      "\u001b[32mUploading Tokenized_PAN_X_ja (12.74 MBs): 100%|█| 12739229/12739229 [00:00<00:00\u001b[0m\n",
      "\u001b[39m\n",
      "\n",
      "{\n",
      "  \"creation_context\": {\n",
      "    \"created_at\": \"2022-10-29T19:51:46.943971+00:00\",\n",
      "    \"created_by\": \"Tsuyoshi Matsuzaki\",\n",
      "    \"created_by_type\": \"User\",\n",
      "    \"last_modified_at\": \"2022-10-29T19:51:46.979625+00:00\"\n",
      "  },\n",
      "  \"description\": \"PAN-X Japanese dataset (Tokenized)\",\n",
      "  \"id\": \"/subscriptions/b3ae1c15-4fef-4362-8c3a-5d804cdeb18d/resourceGroups/rg-AML/providers/Microsoft.MachineLearningServices/workspaces/ws01/data/panx_ja_tokenized_dataset/versions/1\",\n",
      "  \"name\": \"panx_ja_tokenized_dataset\",\n",
      "  \"path\": \"azureml://subscriptions/b3ae1c15-4fef-4362-8c3a-5d804cdeb18d/resourcegroups/rg-AML/workspaces/ws01/datastores/workspaceblobstore/paths/LocalUpload/e05ed7fbd3c2ee8624c61c93130b7a85/Tokenized_PAN_X_ja/\",\n",
      "  \"properties\": {},\n",
      "  \"resourceGroup\": \"rg-AML\",\n",
      "  \"tags\": {},\n",
      "  \"type\": \"uri_folder\",\n",
      "  \"version\": \"1\"\n",
      "}\n",
      "\u001b[0m"
     ]
    }
   ],
   "source": [
    "!az ml data create --file dataset_upload.yml \\\n",
    "  --resource-group $my_resource_group \\\n",
    "  --workspace-name $my_workspace"
   ]
  },
  {
   "cell_type": "markdown",
   "metadata": {},
   "source": [
    "## 3. Create Python script for Hugging Face fine-tuning (Japanese NER Example)\n",
    "\n",
    "Create a directory for saving your script."
   ]
  },
  {
   "cell_type": "code",
   "execution_count": 8,
   "metadata": {},
   "outputs": [],
   "source": [
    "import os\n",
    "script_folder = './script'\n",
    "os.makedirs(script_folder, exist_ok=True)"
   ]
  },
  {
   "cell_type": "markdown",
   "metadata": {},
   "source": [
    "Save a script file (```hf_finetune_example.py```) for fine-tuning as follows.\n",
    "\n",
    "The outline of this flow is the same as described in [this post](https://tsmatz.wordpress.com/2022/10/24/huggingface-japanese-ner-named-entity-recognition/). (DeepSpeed optimization is also configured.)<br>\n",
    "This trainer will generate a model for Japanese NER (Named Entity Recognition), but this post is written for the training on a single node.\n",
    "\n",
    "We should therefore change our source code for distributed training (training on multiple machines).<br>\n",
    "How is the distribution configured in this source code ?\n",
    "\n",
    "In fact, almost settings in Distributed Data Parallel (DDP) training are transparently configured by HuggingFace ```Trainer``` as follows.\n",
    "\n",
    "- The initialization of ```torch.distributed``` (```torch.distributed.init_process_group()```) is internally invoked in initializing training arguments.<br>\n",
    "(In this example, ```torch.distributed``` is initialized in DeepSpeed initilization (```deepspeed.init_distributed()```) internally.)\n",
    "- Inner model is wrapped by DeepSpeed and it's then wrapped by ```torch.nn.DistributedDataParallel``` (DDP).\n",
    "- The dataset is wrapped with ```torch.utils.data.distributed.DistributedSampler```.\n",
    "- Logging, metrics, and checkpoint saving is processed only on rank 0 in ```Trainer```.\n",
    "\n",
    "As a result, you don't then need to manually configure distribution settings in ```Trainer``` class. (These settings are configured automatically.)\n",
    "\n",
    "> Note : Use ```ddp_timeout``` parameter in ```TrainingArguments``` to specify timeout in ```torch.distributed.init_process_group()```."
   ]
  },
  {
   "cell_type": "code",
   "execution_count": 9,
   "metadata": {},
   "outputs": [
    {
     "name": "stdout",
     "output_type": "stream",
     "text": [
      "Writing script/hf_finetune_example.py\n"
     ]
    }
   ],
   "source": [
    "%%writefile script/hf_finetune_example.py\n",
    "import argparse\n",
    "import os\n",
    "import numpy as np\n",
    "import torch\n",
    "from datasets import load_from_disk, ClassLabel\n",
    "from transformers import TrainingArguments, DataCollatorForTokenClassification, AutoConfig, AutoTokenizer, Trainer, PrinterCallback\n",
    "from transformers.models.roberta.modeling_roberta import RobertaForTokenClassification\n",
    "from transformers.integrations import MLflowCallback, AzureMLCallback\n",
    "from seqeval.metrics import f1_score\n",
    "\n",
    "import mlflow\n",
    "\n",
    "#\n",
    "# parse arguments\n",
    "#\n",
    "\n",
    "parser = argparse.ArgumentParser()\n",
    "parser.add_argument(\n",
    "    \"--data_folder\",\n",
    "    type=str,\n",
    "    default=\"./data/train\",\n",
    "    help=\"Folder path for input data\")\n",
    "FLAGS, unparsed = parser.parse_known_args()\n",
    "\n",
    "#\n",
    "# device check\n",
    "#\n",
    "\n",
    "if torch.cuda.is_available():\n",
    "    print(\"GPU is enabled.\")\n",
    "    print(\"device count: {}, current device: {}\".format(torch.cuda.device_count(), torch.cuda.current_device()))\n",
    "else:\n",
    "    print(\"GPU is not enabled.\")\n",
    "device = torch.device(\"cuda\" if torch.cuda.is_available() else \"cpu\")\n",
    "\n",
    "#\n",
    "# Load dataset\n",
    "#\n",
    "\n",
    "train_ds = load_from_disk(os.path.join(FLAGS.data_folder, \"train\"))\n",
    "validation_ds = load_from_disk(os.path.join(FLAGS.data_folder, \"validation\"))\n",
    "tags = ClassLabel(names=['O', 'B-PER', 'I-PER', 'B-ORG', 'I-ORG', 'B-LOC', 'I-LOC'], id=None)\n",
    "index2tag = {idx: tag for idx, tag in enumerate(tags.names)}\n",
    "tag2index = {tag: idx for idx, tag in enumerate(tags.names)}\n",
    "\n",
    "#\n",
    "# Setup Trainer\n",
    "#\n",
    "\n",
    "# model\n",
    "xlmr_config = AutoConfig.from_pretrained(\n",
    "    \"xlm-roberta-base\",\n",
    "    num_labels=tags.num_classes,\n",
    "    id2label=index2tag,\n",
    "    label2id=tag2index\n",
    ")\n",
    "model = (RobertaForTokenClassification\n",
    "         .from_pretrained(\"xlm-roberta-base\", config=xlmr_config)\n",
    "         .to(device))\n",
    "\n",
    "# training arguments\n",
    "training_args = TrainingArguments(\n",
    "    output_dir = \"outputs/checkpoint\",\n",
    "    log_level = \"error\",\n",
    "    num_train_epochs = 3,\n",
    "    per_device_train_batch_size = 12,\n",
    "    per_device_eval_batch_size = 12,\n",
    "    evaluation_strategy = \"epoch\",\n",
    "    fp16 = True,\n",
    "    logging_steps = len(train_ds),\n",
    "    push_to_hub = False,\n",
    "    deepspeed = \"deepspeed_config.json\"\n",
    ")\n",
    "\n",
    "# metrics function\n",
    "def metrics_func(eval_arg):\n",
    "    preds = np.argmax(eval_arg.predictions, axis=2)\n",
    "    batch_size, seq_len = preds.shape\n",
    "    y_true, y_pred = [], []\n",
    "    for b in range(batch_size):\n",
    "        true_label, pred_label = [], []\n",
    "        for s in range(seq_len):\n",
    "            if eval_arg.label_ids[b, s] != -100:  # -100 must be ignored\n",
    "                true_label.append(index2tag[eval_arg.label_ids[b][s]])\n",
    "                pred_label.append(index2tag[preds[b][s]])\n",
    "        y_true.append(true_label)\n",
    "        y_pred.append(pred_label)\n",
    "    return {\"f1\": f1_score(y_true, y_pred)}\n",
    "\n",
    "# data collator\n",
    "xlmr_tokenizer = AutoTokenizer.from_pretrained(\"xlm-roberta-base\")\n",
    "data_collator = DataCollatorForTokenClassification(\n",
    "    xlmr_tokenizer,\n",
    "    return_tensors=\"pt\")\n",
    "\n",
    "# put it all together (create trainer)\n",
    "trainer = Trainer(\n",
    "    model = model,\n",
    "    args = training_args,\n",
    "    data_collator = data_collator,\n",
    "    compute_metrics = metrics_func,\n",
    "    train_dataset = train_ds,\n",
    "    eval_dataset = validation_ds,\n",
    "    tokenizer = xlmr_tokenizer\n",
    ")\n",
    "# MLflow sync and async API cannot be used together (it will raise errors), then remove MLflowCallback.\n",
    "# We don't also use AzureMLCallback, because it depends on AML SDK v1.\n",
    "# (You can add your own callback function, and send fine-tuning metrics to AML if needed.)\n",
    "trainer.remove_callback(MLflowCallback)\n",
    "trainer.add_callback(PrinterCallback)\n",
    "# trainer.add_callback(AzureMLCallback)\n",
    "\n",
    "##### uncomment for debug\n",
    "# if torch.distributed.is_available() and torch.distributed.is_initialized():\n",
    "#     if trainer.is_world_process_zero():\n",
    "#         print(\"Distributed : I'm matser !\")\n",
    "#     else:\n",
    "#         print(\"Distributed : I'm not master ...\")\n",
    "# else:\n",
    "#     print(\"Not Distributed\")\n",
    "\n",
    "#\n",
    "# Run training !\n",
    "#\n",
    "\n",
    "trainer.train()\n",
    "\n",
    "#\n",
    "# post-processing only in rank 0\n",
    "# (save model)\n",
    "#\n",
    "\n",
    "if trainer.is_world_process_zero():\n",
    "    # save fine-tuned model\n",
    "    os.makedirs(\"./outputs/fintuned_ner_classifier_jp\", exist_ok=True)\n",
    "    if hasattr(trainer.model, \"module\"):\n",
    "        trainer.model.module.save_pretrained(\"./outputs/fintuned_ner_classifier_jp\")\n",
    "    else:\n",
    "        trainer.model.save_pretrained(\"./outputs/fintuned_ner_classifier_jp\")\n",
    "\n",
    "    ### send logs if needed\n",
    "    # mlflow.log_metrics({\"f1_score\": result_f1, \"AUC\": result_auc})\n",
    "    # mlflow.log_artifact(\"confusion_matrix.png\")"
   ]
  },
  {
   "cell_type": "code",
   "execution_count": 10,
   "metadata": {},
   "outputs": [
    {
     "name": "stdout",
     "output_type": "stream",
     "text": [
      "Writing script/deepspeed_config.json\n"
     ]
    }
   ],
   "source": [
    "%%writefile script/deepspeed_config.json\n",
    "{\n",
    "    \"train_batch_size\": 36,\n",
    "    \"fp16\": {\n",
    "        \"enabled\": true\n",
    "    },\n",
    "    \"zero_optimization\": {\n",
    "        \"stage\": 2\n",
    "    }\n",
    "}"
   ]
  },
  {
   "cell_type": "markdown",
   "metadata": {},
   "source": [
    "## 4. Submit a Job in Azure Machine Learning"
   ]
  },
  {
   "cell_type": "markdown",
   "metadata": {},
   "source": [
    "### Create cluster (multiple nodes)\n",
    "\n",
    "Create a remote cluster, which has 3 nodes with GPU."
   ]
  },
  {
   "cell_type": "code",
   "execution_count": 11,
   "metadata": {},
   "outputs": [
    {
     "name": "stdout",
     "output_type": "stream",
     "text": [
      "huggingface/tokenizers: The current process just got forked, after parallelism has already been used. Disabling parallelism to avoid deadlocks...\n",
      "To disable this warning, you can either:\n",
      "\t- Avoid using `tokenizers` before the fork if possible\n",
      "\t- Explicitly set the environment variable TOKENIZERS_PARALLELISM=(true | false)\n",
      "Class RegistryOperations: This is an experimental class, and may change at any time. Please see https://aka.ms/azuremlexperimental for more information.\n",
      "\u001b[K{\\ Finished ..\n",
      "  \"id\": \"/subscriptions/b3ae1c15-4fef-4362-8c3a-5d804cdeb18d/resourceGroups/rg-AML/providers/Microsoft.MachineLearningServices/workspaces/ws01/computes/cluster01\",\n",
      "  \"idle_time_before_scale_down\": 120,\n",
      "  \"location\": \"eastus\",\n",
      "  \"max_instances\": 3,\n",
      "  \"min_instances\": 0,\n",
      "  \"name\": \"cluster01\",\n",
      "  \"network_settings\": {},\n",
      "  \"provisioning_state\": \"Succeeded\",\n",
      "  \"resourceGroup\": \"rg-AML\",\n",
      "  \"size\": \"STANDARD_NC6\",\n",
      "  \"ssh_public_access_enabled\": true,\n",
      "  \"tier\": \"dedicated\",\n",
      "  \"type\": \"amlcompute\"\n",
      "}\n",
      "\u001b[0m"
     ]
    }
   ],
   "source": [
    "!az ml compute create --name cluster01 \\\n",
    "  --resource-group $my_resource_group \\\n",
    "  --workspace-name $my_workspace \\\n",
    "  --type amlcompute \\\n",
    "  --min-instances 0 \\\n",
    "  --max-instances 3 \\\n",
    "  --size Standard_NC4as_T4_v3 "
   ]
  },
  {
   "cell_type": "markdown",
   "metadata": {},
   "source": [
    "### Submit Job\n",
    "\n",
    "Now let's run HuggingFace fine-tuning distributed job.\n",
    "\n",
    "In this example, I use ```AzureML-ACPT-pytorch-1.11-py38-cuda11.3-gpu``` (Azure Container for PyTorch) for Azure ML environment, in which CUDA (and NCCL), PyTorch, and DeepSpeed are already installed and configured."
   ]
  },
  {
   "cell_type": "code",
   "execution_count": 12,
   "metadata": {},
   "outputs": [
    {
     "name": "stdout",
     "output_type": "stream",
     "text": [
      "Writing hf_finetune_example.yml\n"
     ]
    }
   ],
   "source": [
    "%%writefile hf_finetune_example.yml\n",
    "$schema: https://azuremlschemas.azureedge.net/latest/commandJob.schema.json\n",
    "code: script\n",
    "command: |\n",
    "  pip install omegaconf hydra-core fairseq sentencepiece\n",
    "  pip install transformers datasets accelerate\n",
    "  pip install numpy seqeval pandas matplotlib scikit-learn\n",
    "  TOKENIZERS_PARALLELISM=false python -m torch.distributed.launch --nproc_per_node 1 --nnodes 3 --node_rank $NODE_RANK --master_addr $MASTER_ADDR --master_port $MASTER_PORT --use_env hf_finetune_example.py --data_folder ${{inputs.train_data}}\n",
    "inputs:\n",
    "  train_data:\n",
    "    type: uri_folder\n",
    "    path: azureml:panx_ja_tokenized_dataset@latest\n",
    "environment: azureml:AzureML-ACPT-pytorch-1.11-py38-cuda11.3-gpu@latest\n",
    "environment_variables:\n",
    "  NCCL_DEBUG: \"INFO\"\n",
    "  # NCCL_IB_PCI_RELAXED_ORDERING: \"1\"\n",
    "  # NCCL_IB_DISABLE: \"1\"\n",
    "  # NCCL_NET_PLUGIN: \"none\"\n",
    "  # NCCL_NET: \"Socket\"\n",
    "  # NCCL_SOCKET_IFNAME: \"eth0\"\n",
    "  # NCCL_TOPO_FILE: \"/opt/microsoft/ndv4-topo.xml\"\n",
    "  # UCX_IB_PCI_RELAXED_ORDERING: \"on\"\n",
    "  # UCX_TLS: \"tcp\"\n",
    "  # UCX_NET_DEVICES: \"eth0\"\n",
    "  # CUDA_DEVICE_ORDER: \"PCI_BUS_ID\"\n",
    "compute: azureml:cluster01\n",
    "display_name: huggingface_finetune_example\n",
    "experiment_name: huggingface_finetune_example\n",
    "distribution:\n",
    "  type: pytorch\n",
    "  process_count_per_instance: 1\n",
    "resources:\n",
    "  instance_count: 3\n",
    "description: HuggingFace fine-tuning with DeepSpeed optimization"
   ]
  },
  {
   "cell_type": "code",
   "execution_count": 13,
   "metadata": {},
   "outputs": [
    {
     "name": "stdout",
     "output_type": "stream",
     "text": [
      "huggingface/tokenizers: The current process just got forked, after parallelism has already been used. Disabling parallelism to avoid deadlocks...\n",
      "To disable this warning, you can either:\n",
      "\t- Avoid using `tokenizers` before the fork if possible\n",
      "\t- Explicitly set the environment variable TOKENIZERS_PARALLELISM=(true | false)\n",
      "Class RegistryOperations: This is an experimental class, and may change at any time. Please see https://aka.ms/azuremlexperimental for more information.\n",
      "\u001b[32mUploading script (0.0 MBs): 100%|███████| 4476/4476 [00:00<00:00, 142386.84it/s]\u001b[0m\n",
      "\u001b[39m\n",
      "\n",
      "This job/deployment uses curated environments. The syntax for using curated environments has changed to include azureml registry name: azureml:registries/azureml/environments//versions/ or azureml:registries/azureml/environments/labels/latest. Support for format you are using will be removed in future versions of the CLI and SDK. Learn more at aka.ms/curatedenv\n",
      "{\n",
      "  \"code\": \"azureml:/subscriptions/b3ae1c15-4fef-4362-8c3a-5d804cdeb18d/resourceGroups/rg-AML/providers/Microsoft.MachineLearningServices/workspaces/ws01/codes/a317eccb-301e-4816-bd9c-494502d02cde/versions/1\",\n",
      "  \"command\": \"pip install omegaconf hydra-core fairseq sentencepiece\\npip install transformers datasets accelerate\\npip install numpy seqeval pandas matplotlib scikit-learn\\nTOKENIZERS_PARALLELISM=false python -m torch.distributed.launch --nproc_per_node 1 --nnodes 3 --node_rank $NODE_RANK --master_addr $MASTER_ADDR --master_port $MASTER_PORT --use_env hf_finetune_example.py --data_folder ${{inputs.train_data}}\\n\",\n",
      "  \"compute\": \"azureml:cluster01\",\n",
      "  \"creation_context\": {\n",
      "    \"created_at\": \"2022-10-29T19:54:45.864186+00:00\",\n",
      "    \"created_by\": \"Tsuyoshi Matsuzaki\",\n",
      "    \"created_by_type\": \"User\"\n",
      "  },\n",
      "  \"description\": \"HuggingFace fine-tuning with DeepSpeed optimization\",\n",
      "  \"display_name\": \"huggingface_finetune_example\",\n",
      "  \"distribution\": {\n",
      "    \"process_count_per_instance\": 1,\n",
      "    \"type\": \"pytorch\"\n",
      "  },\n",
      "  \"environment\": \"azureml:AzureML-ACPT-pytorch-1.11-py38-cuda11.3-gpu@latest\",\n",
      "  \"environment_variables\": {\n",
      "    \"NCCL_DEBUG\": \"INFO\"\n",
      "  },\n",
      "  \"experiment_name\": \"huggingface_finetune_example\",\n",
      "  \"id\": \"azureml:/subscriptions/b3ae1c15-4fef-4362-8c3a-5d804cdeb18d/resourceGroups/rg-AML/providers/Microsoft.MachineLearningServices/workspaces/ws01/jobs/ivory_fly_3wwgkg0f4x\",\n",
      "  \"inputs\": {\n",
      "    \"train_data\": {\n",
      "      \"mode\": \"ro_mount\",\n",
      "      \"path\": \"azureml:panx_ja_tokenized_dataset:1\",\n",
      "      \"type\": \"uri_folder\"\n",
      "    }\n",
      "  },\n",
      "  \"name\": \"ivory_fly_3wwgkg0f4x\",\n",
      "  \"outputs\": {\n",
      "    \"default\": {\n",
      "      \"mode\": \"rw_mount\",\n",
      "      \"path\": \"azureml://datastores/workspaceartifactstore/ExperimentRun/dcid.ivory_fly_3wwgkg0f4x\",\n",
      "      \"type\": \"uri_folder\"\n",
      "    }\n",
      "  },\n",
      "  \"parameters\": {},\n",
      "  \"properties\": {\n",
      "    \"ContentSnapshotId\": \"8823d2e0-c5dd-4b34-a357-8b077968ad58\",\n",
      "    \"_azureml.ComputeTargetType\": \"amlctrain\"\n",
      "  },\n",
      "  \"resourceGroup\": \"rg-AML\",\n",
      "  \"resources\": {\n",
      "    \"instance_count\": 3,\n",
      "    \"properties\": {},\n",
      "    \"shm_size\": \"2g\"\n",
      "  },\n",
      "  \"services\": {\n",
      "    \"Studio\": {\n",
      "      \"endpoint\": \"https://ml.azure.com/runs/ivory_fly_3wwgkg0f4x?wsid=/subscriptions/b3ae1c15-4fef-4362-8c3a-5d804cdeb18d/resourcegroups/rg-AML/workspaces/ws01&tid=72f988bf-86f1-41af-91ab-2d7cd011db47\",\n",
      "      \"job_service_type\": \"Studio\"\n",
      "    },\n",
      "    \"Tracking\": {\n",
      "      \"endpoint\": \"azureml://eastus.api.azureml.ms/mlflow/v1.0/subscriptions/b3ae1c15-4fef-4362-8c3a-5d804cdeb18d/resourceGroups/rg-AML/providers/Microsoft.MachineLearningServices/workspaces/ws01?\",\n",
      "      \"job_service_type\": \"Tracking\"\n",
      "    }\n",
      "  },\n",
      "  \"status\": \"Starting\",\n",
      "  \"tags\": {},\n",
      "  \"type\": \"command\"\n",
      "}\n",
      "\u001b[0m"
     ]
    }
   ],
   "source": [
    "!az ml job create --file hf_finetune_example.yml \\\n",
    "  --resource-group $my_resource_group \\\n",
    "  --workspace-name $my_workspace"
   ]
  },
  {
   "cell_type": "markdown",
   "metadata": {},
   "source": [
    "Go to [Azure ML studio](https://ml.azure.com/) and see logs for progress.\n",
    "\n",
    "![progress in AML output](./output_progress.png)"
   ]
  },
  {
   "cell_type": "markdown",
   "metadata": {},
   "source": [
    "## 5. See results"
   ]
  },
  {
   "cell_type": "markdown",
   "metadata": {},
   "source": [
    "After the trainiig has completed, see the job result in [Azure Machine Learning studio](https://ml.azure.com/).\n",
    "\n",
    "When you go to job, you will see how loss and f1 score are improved in each epoch. (In this example, we have 3 epochs.)\n",
    "\n",
    "![metrics results in Azure ML](./output_metrics.png)\n",
    "\n",
    "Select the run and go to \"Outputs + logs\" tab.<br>\n",
    "You will see the training outputs, such as, the output logs and the saved model. (See below.)\n",
    "\n",
    "![outputs in Azure ML](./output_artifact.png)"
   ]
  },
  {
   "cell_type": "markdown",
   "metadata": {},
   "source": [
    "## 6. Analyze model and errors\n",
    "\n",
    "Now download fine-tuned model and analyze errors.<br>\n",
    "Here we run prediction with test data (which is not used in training) and show confusion matrix to evaluate our fine-tuned model."
   ]
  },
  {
   "cell_type": "markdown",
   "metadata": {},
   "source": [
    "First, download the fine-tuned model by Azure ML API. (The model is so large and it will then take a while to download.)"
   ]
  },
  {
   "cell_type": "code",
   "execution_count": 14,
   "metadata": {},
   "outputs": [],
   "source": [
    "job_name = \"{FILL_JOB_NAME}\"\n",
    "# Example : job_name = \"ivory_fly_3wwgkg0f4x\""
   ]
  },
  {
   "cell_type": "code",
   "execution_count": 15,
   "metadata": {},
   "outputs": [
    {
     "name": "stdout",
     "output_type": "stream",
     "text": [
      "huggingface/tokenizers: The current process just got forked, after parallelism has already been used. Disabling parallelism to avoid deadlocks...\n",
      "To disable this warning, you can either:\n",
      "\t- Avoid using `tokenizers` before the fork if possible\n",
      "\t- Explicitly set the environment variable TOKENIZERS_PARALLELISM=(true | false)\n",
      "Class RegistryOperations: This is an experimental class, and may change at any time. Please see https://aka.ms/azuremlexperimental for more information.\n",
      "Downloading artifact azureml://datastores/workspaceartifactstore/ExperimentRun/dcid.ivory_fly_3wwgkg0f4x to hf_finetune_outputs/artifacts\n",
      "\u001b[0m"
     ]
    }
   ],
   "source": [
    "!az ml job download --name $job_name \\\n",
    "  --resource-group $my_resource_group \\\n",
    "  --workspace-name $my_workspace \\\n",
    "  --download-path hf_finetune_outputs"
   ]
  },
  {
   "cell_type": "markdown",
   "metadata": {},
   "source": [
    "Run prediction for test data (which has 10,000 records) and show confusion matrix."
   ]
  },
  {
   "cell_type": "code",
   "execution_count": 16,
   "metadata": {},
   "outputs": [
    {
     "name": "stdout",
     "output_type": "stream",
     "text": [
      "huggingface/tokenizers: The current process just got forked, after parallelism has already been used. Disabling parallelism to avoid deadlocks...\n",
      "To disable this warning, you can either:\n",
      "\t- Avoid using `tokenizers` before the fork if possible\n",
      "\t- Explicitly set the environment variable TOKENIZERS_PARALLELISM=(true | false)\n"
     ]
    },
    {
     "data": {
      "application/vnd.jupyter.widget-view+json": {
       "model_id": "6d76f882134d4850b38712cdd204723b",
       "version_major": 2,
       "version_minor": 0
      },
      "text/plain": [
       "  0%|          | 0/313 [00:00<?, ?ba/s]"
      ]
     },
     "metadata": {},
     "output_type": "display_data"
    },
    {
     "name": "stderr",
     "output_type": "stream",
     "text": [
      "You're using a XLMRobertaTokenizerFast tokenizer. Please note that with a fast tokenizer, using the `__call__` method is faster than using a method to encode the text followed by a call to the `pad` method to get a padded encoding.\n"
     ]
    },
    {
     "data": {
      "image/png": "[encoded data removed]",
      "text/plain": [
       "<Figure size 700x700 with 1 Axes>"
      ]
     },
     "metadata": {},
     "output_type": "display_data"
    }
   ],
   "source": [
    "import torch\n",
    "from transformers import AutoConfig, AutoTokenizer, DataCollatorForTokenClassification\n",
    "from transformers.models.roberta.modeling_roberta import RobertaForTokenClassification\n",
    "from itertools import chain\n",
    "import matplotlib.pyplot as plt\n",
    "from sklearn.metrics import ConfusionMatrixDisplay, confusion_matrix\n",
    "\n",
    "# get device\n",
    "device = torch.device(\"cuda\" if torch.cuda.is_available() else \"cpu\")\n",
    "\n",
    "# generate config\n",
    "tags = ds[\"test\"].features[\"ner_tags\"].feature\n",
    "index2tag = {idx: tag for idx, tag in enumerate(tags.names)}\n",
    "tag2index = {tag: idx for idx, tag in enumerate(tags.names)}\n",
    "\n",
    "# load model\n",
    "xlmr_config = AutoConfig.from_pretrained(\n",
    "    \"xlm-roberta-base\",\n",
    "    num_labels=tags.num_classes,\n",
    "    id2label=index2tag,\n",
    "    label2id=tag2index\n",
    ")\n",
    "model = (RobertaForTokenClassification\n",
    "         .from_pretrained(\"./hf_finetune_outputs/artifacts/outputs/fintuned_ner_classifier_jp\", config=xlmr_config)\n",
    "         .to(device))\n",
    "\n",
    "# create data collator\n",
    "xlmr_tokenizer = AutoTokenizer.from_pretrained(\"xlm-roberta-base\")\n",
    "data_collator = DataCollatorForTokenClassification(\n",
    "    xlmr_tokenizer,\n",
    "    return_tensors=\"pt\")\n",
    "\n",
    "# define analyzing function\n",
    "def process_test(batch):\n",
    "    # process data collator\n",
    "    features = [dict(zip(batch, t)) for t in zip(*batch.values())]\n",
    "    new_batch = data_collator(features)\n",
    "    # run inference (prediction)\n",
    "    with torch.no_grad():\n",
    "        input_ids = new_batch[\"input_ids\"].to(device)\n",
    "        attention_mask = new_batch[\"attention_mask\"].to(device)\n",
    "        output = model(input_ids, attention_mask)\n",
    "        predicted_label_id = torch.argmax(output.logits, axis=-1).cpu().numpy()\n",
    "    # compute loss (but we won't use this result)\n",
    "    true_label_id = new_batch[\"labels\"].to(device)\n",
    "    loss = torch.nn.functional.cross_entropy(\n",
    "        output.logits.view(-1, tags.num_classes),\n",
    "        true_label_id.view(-1),\n",
    "        reduction=\"none\"\n",
    "    )\n",
    "    loss = loss.view(len(input_ids), -1).cpu().numpy()\n",
    "    # create output\n",
    "    return {\n",
    "        \"loss\": loss,\n",
    "        \"predicted_labels\": predicted_label_id\n",
    "    }\n",
    "\n",
    "# run analysis (with test data)\n",
    "test_ds = tokenized_ds[\"test\"]\n",
    "test_output = test_ds.map(process_test, batched=True, batch_size=32)\n",
    "test_output_df = test_output.to_pandas()\n",
    "test_output_df[\"label_tags\"] = test_output_df[\"labels\"].apply(\n",
    "    lambda row: [index2tag[i] for i in row])\n",
    "test_output_df[\"predicted_label_tags\"] = test_output_df[[\"predicted_labels\", \"attention_mask\"]].apply(\n",
    "    lambda row: [index2tag[i] for i in row.predicted_labels][:len(row.attention_mask)], axis = 1)\n",
    "\n",
    "# output test result (confusion matrix)\n",
    "conf_matrix = confusion_matrix(\n",
    "    list(chain.from_iterable(test_output_df[\"label_tags\"])),\n",
    "    list(chain.from_iterable(test_output_df[\"predicted_label_tags\"])),\n",
    "    normalize=\"true\")\n",
    "fig, ax = plt.subplots(figsize=(7, 7))\n",
    "conf_display = ConfusionMatrixDisplay(\n",
    "    confusion_matrix=conf_matrix,\n",
    "    display_labels=tags.names)\n",
    "conf_display.plot(cmap=\"Greens\", values_format=\".2f\", ax=ax, colorbar=False)\n",
    "plt.show()"
   ]
  },
  {
   "cell_type": "markdown",
   "metadata": {},
   "source": [
    "## 4. Clean-up (Remove cluster)"
   ]
  },
  {
   "cell_type": "code",
   "execution_count": null,
   "metadata": {},
   "outputs": [],
   "source": [
    "!az ml compute delete --name cluster01 \\\n",
    "  --resource-group $my_resource_group \\\n",
    "  --workspace-name $my_workspace \\\n",
    "  --yes"
   ]
  }
 ],
 "metadata": {
  "kernelspec": {
   "display_name": "Python 3 (ipykernel)",
   "language": "python",
   "name": "python3"
  },
  "language_info": {
   "codemirror_mode": {
    "name": "ipython",
    "version": 3
   },
   "file_extension": ".py",
   "mimetype": "text/x-python",
   "name": "python",
   "nbconvert_exporter": "python",
   "pygments_lexer": "ipython3",
   "version": "3.8.10"
  }
 },
 "nbformat": 4,
 "nbformat_minor": 2
}
